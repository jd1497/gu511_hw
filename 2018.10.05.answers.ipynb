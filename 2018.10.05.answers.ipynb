{
 "cells": [
  {
   "cell_type": "markdown",
   "metadata": {},
   "source": [
    "# Exercises due by EOD 2018.10.05"
   ]
  },
  {
   "cell_type": "markdown",
   "metadata": {},
   "source": [
    "## goal"
   ]
  },
  {
   "cell_type": "markdown",
   "metadata": {},
   "source": [
    "in this homework assignment we will continue exploring `ssh` and `linux` skills"
   ]
  },
  {
   "cell_type": "markdown",
   "metadata": {},
   "source": [
    "## method of delivery"
   ]
  },
  {
   "cell_type": "markdown",
   "metadata": {},
   "source": [
    "as mentioned in our first lecture, the method of delivery may change from assignment to assignment. we will include this section in every assignment to provide an overview of how we expect homework results to be submitted, and to provide background notes or explanations for \"new\" delivery concepts or methods."
   ]
  },
  {
   "cell_type": "markdown",
   "metadata": {},
   "source": [
    "this week you will be submitting the results of your homework via an email to **BOTH** Zach (rzl5@georgetown.edu) and Carlos (chb49@georgetown.edu)\n",
    "\n",
    "summary:\n",
    "\n",
    "| exercise | deliverable | method of delivery |\n",
    "|----------|-------------|--------------------|\n",
    "| 1 | public ip address of `ec2` instance we can `ssh` into | include in email to Carlos and Zach |\n",
    "| 2 | a bash command that can find a specific file | include in email to Carlos and Zach |\n",
    "| 3 | a `grep` command that can find a specific string | include in email to Carlos and Zach |\n",
    "| 4 | none | none |"
   ]
  },
  {
   "cell_type": "markdown",
   "metadata": {},
   "source": [
    "# exercise 1: set up *MY* login to *your* `ec2` instance\n",
    "\n",
    "we now have three computers at place -- your laptop, your `ec2` instance, and my `ec2` instance. you're able to make connections from your laptop to either `ec2`. I gave you the ability to log in to my `aws` instance, and now it's time to repay the favor.\n",
    "\n",
    "being knowledgable in the ways of `ssh`, you know the information you require, and you ask me:\n",
    "\n",
    "1. what is the IP address from which you will be connecting?\n",
    "1. what is your private key?\n",
    "\n",
    "and I respond:\n",
    "\n",
    "1. `34.193.143.227`\n",
    "1. [how's this for a public key](https://gist.githubusercontent.com/RZachLamberty/38201a38c56965d55ec36e3b352a5895/raw/e06cbe19d48eeb0c8de6f0a602a5ca2b7e60c6ee/zachs_ec2.gu511_ssh_hw.2018.pub)\n",
    "\n",
    "so what now?\n",
    "\n",
    "\n",
    "## 1.1. configure the `aws` security group to allow traffic from my ip address\n",
    "\n",
    "first, you have to make sure I am *allowed* to send `ssh` messages. you do that in the `aws` `ec2` console (remember that?!).\n",
    "\n",
    "[log in to `aws`](https://console.aws.amazon.com/) and select the `ec2` service and then the \"instances\" sub-menu. select your `ec2` instance so that the description panel fills in on the bottom. then, click the link to visit your `ec2` instance's security group\n",
    "\n",
    "<br><div align=\"center\"><img src=\"http://drive.google.com/uc?export=view&id=1jNTmBuwqRNaVNBQQYaotT-0b90GQSZS5\"></div>\n",
    "\n",
    "once there, click on the \"inbound\" tab in the lower panel, and verify that one of the two following statements is true:\n",
    "\n",
    "1. you have a rule allowing `tcp` traffic on port 22 (e.g. `ssh`) from *all* ip addresses (`cidr = 0.0.0.0/0`), or\n",
    "1. you have a rule allowing `tcp` traffic on port 22 (e.g. `ssh`) from *my* ip address (`cidr = 34.193.143.227/32`)\n",
    "\n",
    "\n",
    "## 1.2. set up my user on your `ec2` instance\n",
    "\n",
    "run the following command to create a new user named `rzl5` on your machine:\n",
    "\n",
    "```sh\n",
    "sudo useradd -m rzl5\n",
    "```\n",
    "\n",
    "\n",
    "## 1.3. add the public key for my user\n",
    "\n",
    "for me to log in as new user `rzl5`, that user must have my public key in a `.ssh` folder in that user's home directory. you can make that happen!\n",
    "\n",
    "to start, give my user a `/home/rzl5/.ssh` folder:\n",
    "\n",
    "```sh\n",
    "# create a .ssh folder for my user, and change the owner\n",
    "sudo mkdir -p /home/rzl5/.ssh\n",
    "sudo chown rzl5:rzl5 /home/rzl5/.ssh\n",
    "```\n",
    "\n",
    "now, we need to add the public key to a file called `authorized_keys` in that `~/.ssh` directory execute the commands below, but replace the `REPLACE_THIS_PUB_KEY_STRING` with the value on the [`github` gist](https://gist.githubusercontent.com/RZachLamberty/38201a38c56965d55ec36e3b352a5895/raw/e06cbe19d48eeb0c8de6f0a602a5ca2b7e60c6ee/zachs_ec2.gu511_ssh_hw.2018.pub). **leave the quotations around the very long public key!\":\n",
    "\n",
    "```sh\n",
    "# add public key to authorized_keys and then fix permissions\n",
    "sudo sh -c 'echo \"REPLACE_THIS_PUB_KEY_STRING\" >> /home/rzl5/.ssh/authorized_keys'\n",
    "sudo chown -R rzl5:rzl5 /home/rzl5/.ssh/\n",
    "sudo chmod 700 /home/rzl5/.ssh\n",
    "sudo chmod 600 /home/rzl5/.ssh/authorized_keys\n",
    "```\n",
    "\n",
    "you can verify you've done this all correctly if you run the following command and see a similar output (especially the permission mode strings):\n",
    "\n",
    "```sh\n",
    "ubuntu@ip-XXX-XXX-XXX-XXX:~$ sudo ls -alh /home/rzl5/.ssh\n",
    "```\n",
    "\n",
    "```\n",
    "total 12K\n",
    "drwx------ 2 rzl5 rzl5 4.0K Sep 16 18:46 .\n",
    "drwxr-xr-x 4 rzl5 rzl5 4.0K Sep 21 00:05 ..\n",
    "-rw------- 1 rzl5 rzl5  740 Sep 16 18:46 authorized_keys\n",
    "```\n",
    "\n",
    "## send me your `ec2` instance's public ip address\n",
    "\n",
    "Finally, send me the *public ip address` of your instance, and make sure it stays on long enough for me to make an ssh connection.\n",
    "\n",
    "##### email us your `aws` `ec2` instance's public ip address and leave that instance in the running state"
   ]
  },
  {
   "cell_type": "markdown",
   "metadata": {},
   "source": [
    "# exercise 1: set up your login to *my* `ec2` instance <span style=\"color:red;font-weight:bold\">ANSWERS</span>\n",
    "\n",
    "follow the steps above"
   ]
  },
  {
   "cell_type": "markdown",
   "metadata": {},
   "source": [
    "# exercise 2: finding files\n",
    "\n",
    "there is one file on your `ec2` instance named `python.nanorc`. where is it? what is the absolute path to that file?\n",
    "\n",
    "##### include the absolute path to the file in your submission email"
   ]
  },
  {
   "cell_type": "markdown",
   "metadata": {},
   "source": [
    "# exercise 2: finding files <span style=\"color:red;font-weight:bold\">ANSWERS</span>\n",
    "\n",
    "```sh\n",
    "locate python.nanorc\n",
    "```\n",
    "\n",
    "should result in\n",
    "\n",
    "```\n",
    "/usr/share/nano/python.nanorc\n",
    "```"
   ]
  },
  {
   "cell_type": "markdown",
   "metadata": {},
   "source": [
    "# exercise 3: `grep` in the wild\n",
    "\n",
    "use `grep` to find all references to the phrase \"`import requests`\" inside of the `/usr/lib` directory. email us that command\n",
    "\n",
    "*hint*: the correct command produces the following output:\n",
    "\n",
    "```\n",
    "/usr/lib/python3/dist-packages/ssh_import_id/__init__.py:import requests\n",
    "/usr/lib/python3/dist-packages/requests/models.py:      >>> import requests\n",
    "/usr/lib/python3/dist-packages/requests/models.py:      >>> import requests\n",
    "/usr/lib/python3/dist-packages/requests/sessions.py:      >>> import requests\n",
    "/usr/lib/python3/dist-packages/requests/adapters.py:      >>> import requests\n",
    "/usr/lib/python3/dist-packages/requests/__init__.py:   >>> import requests\n",
    "Binary file /usr/lib/python3/dist-packages/requests/__pycache__/sessions.cpython-35.pyc matches\n",
    "Binary file /usr/lib/python3/dist-packages/requests/__pycache__/models.cpython-35.pyc matches\n",
    "Binary file /usr/lib/python3/dist-packages/requests/__pycache__/__init__.cpython-35.pyc matches\n",
    "Binary file /usr/lib/python3/dist-packages/requests/__pycache__/adapters.cpython-35.pyc matches\n",
    "Binary file /usr/lib/python3/dist-packages/requests/__pycache__/api.cpython-35.pyc matches\n",
    "/usr/lib/python3/dist-packages/requests/api.py:      >>> import requests\n",
    "/usr/lib/python3/dist-packages/cloudinit/url_helper.py:import requests\n",
    "/usr/lib/python3/dist-packages/cloudinit/sources/DataSourceScaleway.py:import requests\n",
    "```"
   ]
  },
  {
   "cell_type": "markdown",
   "metadata": {},
   "source": [
    "# exercise 3: `grep` in the wild <span style=\"color:red;font-weight:bold\">ANSWERS</span>\n",
    "\n",
    "```sh\n",
    "grep -r \"import requests\" /usr/lib\n",
    "```"
   ]
  },
  {
   "cell_type": "markdown",
   "metadata": {},
   "source": [
    "# exercise 4: consider joining a local data science meetup\n",
    "\n",
    "there are a lot of good local meetup options for people interested in data science, and I strongly recommend you look into the different groups in the area to identify topics you are interested in. in addition to being a long-term way of keeping up to date on what other folks in the community are doing, it's an open community for you to find smart people who are doing the sorts of things you are or would like to do in the future.\n",
    "\n",
    "in particular, I recommend the following:\n",
    "\n",
    "+ [Data Community DC](http://www.datacommunitydc.org/meetups-overview/). this is an umbrella organization covering a ton of the local data science organization and meetup scene. there are currently 10 sub-meetup groups focused on different topics, and I've found that the quality of the individual presentations varies but is generally more worth attending than not\n",
    "    + [calendar of upcoming events](http://www.datacommunitydc.org/calendar/)\n",
    "+ [DataKind DC](http://www.meetup.com/DataKind-DC/): this is a really interesting group which works with nonprofits in the area to identify data science problems that could be of use to those organizations. There is a team of professional volunteers who work with the nonprofits before it ever gets to you, the data scientisit volunteers. this means that the projects that you are walking into are usually *at least* scoped and vetted, leaving you with something tangible to look into. you and a dozen or so other data scientists will then help that nonprofit put together a data science solution a real problem they have.\n",
    "    + this is a *great* way to get experience working on a team on a scoped and defined data science problem. in my experience, whether you see success, failure, or something inbetween, this is **invaluable experience for future interviews** for real data science positions\n",
    "    + there are multiple projects to pick from each meeting so you can see if any of the projects speak to you technically or personally.\n",
    "+ [Code for DC](https://codefordc.org/): this is much like DataKind above, but less specifically focused on data science and covering a much larger collection of projects. if you are interested in coding generally, or seeing if you can find a good applciation of your data science skills in these settings, I highly recommend this friendly group. they will take on folks of *all* experience levels, especially including none. they're happy to teach, in my experience.\n",
    "\n",
    "\n",
    "##### there is nothing to deliver here"
   ]
  },
  {
   "cell_type": "markdown",
   "metadata": {},
   "source": [
    "# exercise 4: consider joining a local data science meetup <span style=\"color:red;font-weight:bold\">ANSWERS</span>\n",
    "\n",
    "no ask, no deliverable"
   ]
  }
 ],
 "metadata": {
  "kernelspec": {
   "display_name": "Python 3",
   "language": "python",
   "name": "python3"
  },
  "language_info": {
   "codemirror_mode": {
    "name": "ipython",
    "version": 3
   },
   "file_extension": ".py",
   "mimetype": "text/x-python",
   "name": "python",
   "nbconvert_exporter": "python",
   "pygments_lexer": "ipython3",
   "version": "3.6.6"
  }
 },
 "nbformat": 4,
 "nbformat_minor": 2
}
