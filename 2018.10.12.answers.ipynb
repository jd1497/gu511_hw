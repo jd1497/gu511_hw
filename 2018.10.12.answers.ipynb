{
 "cells": [
  {
   "cell_type": "markdown",
   "metadata": {},
   "source": [
    "# Exercises due by EOD 2018.10.12"
   ]
  },
  {
   "cell_type": "markdown",
   "metadata": {},
   "source": [
    "## goal"
   ]
  },
  {
   "cell_type": "markdown",
   "metadata": {},
   "source": [
    "in this homework assignment we will get more familiar with `git`"
   ]
  },
  {
   "cell_type": "markdown",
   "metadata": {},
   "source": [
    "## method of delivery"
   ]
  },
  {
   "cell_type": "markdown",
   "metadata": {},
   "source": [
    "as mentioned in our first lecture, the method of delivery may change from assignment to assignment. we will include this section in every assignment to provide an overview of how we expect homework results to be submitted, and to provide background notes or explanations for \"new\" delivery concepts or methods."
   ]
  },
  {
   "cell_type": "markdown",
   "metadata": {},
   "source": [
    "this week you will be submitting the results of your homework via an email to **BOTH** Zach (rzl5@georgetown.edu) and Carlos (chb49@georgetown.edu) titled \"2018.10.12 answers\", as well as commits to your `gu511_git_hw` on `github`\n",
    "\n",
    "summary:\n",
    "\n",
    "| exercise | deliverable | method of delivery |\n",
    "|----------|-------------|--------------------|\n",
    "| 1 | the output of `git remote -v` | include in body of submission email |\n",
    "| 2 | the url of a `gist` | include in body of submission email |\n",
    "| 3 | none | none |\n",
    "| 4 | a commit containing `helloworld.py` | `push` to your `github` repo |\n",
    "| 5 | a commit containing changes to `README.md` | `push` to your `github` repo |"
   ]
  },
  {
   "cell_type": "markdown",
   "metadata": {},
   "source": [
    "# exercise 1: use `ssh` authentication for your `github` remote connections\n",
    "\n",
    "\n",
    "## background\n",
    "\n",
    "in a previous homework exercise you connected your *local* `gu511_git_hw` `git` repository with a *remote* `github`-based repository using the two commands `git` suggested (`git remote` and `git push`). as we discussed in lecture, there are two ways of specifying this `github` repository as a remote, depending on protocol: using `https` or `ssh`. depending on which box you had selected before you copied those records\n",
    "\n",
    "<br><div align=\"center\"><img src=\"http://drive.google.com/uc?export=view&id=1la8iZx9gOk4rM7PVvLBLvIDdoUBNyFNW\" width=\"850\"></div>\n",
    "\n",
    "your remote would be either\n",
    "\n",
    "+ `https`: `https://github.com/YOUR_GITHUB_USER_NAME/tacoworld.git`\n",
    "+ `ssh`: `git@github.com:YOUR_GITHUB_USER_NAME/gu511_git_hw.git`\n",
    "\n",
    "in lecture we\n",
    "\n",
    "1. *intentionally selected* `ssh` up front, and\n",
    "2. went through the process outlined [in the `github` documentation here](https://help.github.com/articles/adding-a-new-ssh-key-to-your-github-account/) for our `ec2` instances\n",
    "\n",
    "\n",
    "## adding a public key\n",
    "\n",
    "for **EACH** computer you intend to use to make changes to your `gu511_git_hw` repository (this could be just your `ec2`, just your personal laptop, or *both*), follow [these instructions](https://help.github.com/articles/adding-a-new-ssh-key-to-your-github-account/) and make sure you have a unique public/private key set up on each computer. we already did this, in class, for `ec2`, so if you followed along you do not need to do that again.\n",
    "\n",
    "\n",
    "## make sure you are using the `ssh` remote\n",
    "\n",
    "check the output of\n",
    "\n",
    "```sh\n",
    "git remote -v\n",
    "```\n",
    "\n",
    "if you see two lines which both have `git@github.com:YOUR_GITHUB_USER_NAME/gu511_git_hw.git` as the remote string, you're done.\n",
    "\n",
    "if you see `https://github.com/YOUR_GITHUB_USER_NAME/tacoworld.git` instead, let's update our remote connection string. do this using:\n",
    "\n",
    "```sh\n",
    "git remote set-url origin git@github.com:YOUR_GITHUB_USER_NAME>/gu511_git_hw.git\n",
    "```\n",
    "\n",
    "## send us the result\n",
    "\n",
    "in your submission email include the output of the command\n",
    "\n",
    "```sh\n",
    "git remote -v\n",
    "```\n",
    "\n",
    "##### put the result of the above command in the body of your submission email"
   ]
  },
  {
   "cell_type": "markdown",
   "metadata": {},
   "source": [
    "# exercise 1: use `ssh` authentication for your `github` connections <span style=\"color:red;font-weight:bold\">ANSWERS</span>\n",
    "\n",
    "just a walkthrough. output should look like\n",
    "\n",
    "```\n",
    "origin\tgit@github.com:YOUR_GITHUB_USER_NAME/gu511_git_hw.git (fetch)\n",
    "origin\tgit@github.com:YOUR_GITHUB_USER_NAME/gu511_git_hw.git (push)\n",
    "```"
   ]
  },
  {
   "cell_type": "markdown",
   "metadata": {},
   "source": [
    "# exercise 2: add your laptop's public key as a `github` `gist`\n",
    "\n",
    "the folks at `github` have created a useful service for storing blocks of code called [`gist`](https://gist.github.com/). `gist` is meant as a way of simply sharing code independent of the `git` version control tool, and [I use it](https://gist.github.com/RZachLamberty) to save little snippets of information that aren't *exactly* code I want to version control but *are* useful enough I want to remember them and access them easily every now and then. for example, I've used [this line](https://gist.github.com/RZachLamberty/e5f03771c933a12dd72ab6eaa5a6f41f) for finding the directory a shell script is in more times than I can count.\n",
    "\n",
    "you may have also noticed, this is how I share public keys (I did this on a previous homework). let's have you do the same\n",
    "\n",
    "copy your `openssh` formatted public key (should look similar to [this](https://gist.github.com/RZachLamberty/685f7634b58bb1207ea8ec274a914680)) and add it as a `github` `gist`. in the name or the description, leave yourself a reminder what computer this is on (e.g. a name `zach_mac_laptop`).\n",
    "\n",
    "if you are using the `ssh` command, I encourage you to use the value in `id_rsa.pub`. if that key doesn't exist, create it with `ssh-keygen` (like we did in the `git` lecture).\n",
    "\n",
    "##### include the url to your `gist` in your email to us"
   ]
  },
  {
   "cell_type": "markdown",
   "metadata": {},
   "source": [
    "# add your laptop's public key as a `github` `gist` <span style=\"color:red;font-weight:bold\">ANSWERS</span>\n",
    "\n",
    "this is a point and click exercise on `gist`"
   ]
  },
  {
   "cell_type": "markdown",
   "metadata": {},
   "source": [
    "# exercise 3: add several `git` aliases\n",
    "\n",
    "like many `linux` tools, `git` allows you to configure *aliases* (shortcut phrases for invoking long strings of commands). there are a number of these aliases that I find routinely useful, and we are going to add them to your `git` config files.\n",
    "\n",
    "I'd recommend doing the following on all the computers on which you intend to use `git` (`ec2`, personal laptop, etc).\n",
    "\n",
    "\n",
    "## locating your `git` config file\n",
    "\n",
    "remember our frequent mantra about `linux`-world command configuration: you can configure a command\n",
    "\n",
    "1. *one-off*: on the command line, when you invoke that command\n",
    "1. *local*: with files saved in the working directoy in which you invoke that command\n",
    "1. *global*: with files save in your home directory\n",
    "1. *system*: with files saved in `/etc`\n",
    "\n",
    "we are going to update that 3rd item -- the global `git` config, a file that is saved in your home directory (it is \"global\" in that you can use it anywhere you are, it applies globally for you)\n",
    "\n",
    "in `mac`, `linux`, and `windows` with `git bash`, `git` will look for a file at the path\n",
    "\n",
    "```sh\n",
    "~/.gitconfig\n",
    "```\n",
    "\n",
    "for `mac` and `linux`, this is all you need to know. for `windows`, `~` is *usually* `C:\\Users\\YOUR_USER_NAME`. that being said, you should verfiy by running\n",
    "\n",
    "```sh\n",
    "cd ~ && pwd\n",
    "```\n",
    "\n",
    "to see what `git bash` sees as your `~` directory on your windows machine.\n",
    "\n",
    "\n",
    "## adding a few aliases from the command line\n",
    "\n",
    "the `git config` command allows you to set configuration values via the command line -- see [the documentation here](https://git-scm.com/book/en/v2/Git-Basics-Git-Aliases). let's set the first few aliases -- two-letter shorthands for the commands we learned yesterday -- using this command. run the following from your terminal:\n",
    "\n",
    "```sh\n",
    "git config --global alias.co checkout\n",
    "git config --global alias.br branch\n",
    "git config --global alias.ci commit\n",
    "```\n",
    "\n",
    "## editing that file\n",
    "\n",
    "open `~/.gitconfig` in the text editor of your preference and verify that those aliases were added somewhere within it:\n",
    "\n",
    "```config\n",
    "[alias]\n",
    "    ci = commit\n",
    "    br = branch\n",
    "    co = checkout\n",
    "```\n",
    "\n",
    "the format of this file is a common format (often called [`INI` formatting](https://en.wikipedia.org/wiki/INI_file)) in which configuration variables are grouped by concept (e.g. `alias` variables) into *sections*. the name of the section is written inside braces (`[section name]`). the configuration variables are set via `key = value` statements, often indented.\n",
    "\n",
    "update the block under the `[alias]` heading to look like:\n",
    "\n",
    "```config\n",
    "[alias]\n",
    "    ci = commit\n",
    "    br = branch\n",
    "    co = checkout\n",
    "    st = status -sb\n",
    "    gr = log --graph --abbrev-commit --decorate --date=relative --format=format:'%C(bold blue)%h%C(reset) - %C(bold green)(%ar)%C(reset) %C(bold white)%s%C(reset) - %C(red)%an%C(reset)%C(bold yellow)%d%C(reset)' --all\n",
    "    unstage = reset HEAD --\n",
    "```\n",
    "\n",
    "try `git st` and `git gr` to see what they do!\n",
    "\n",
    "a lot of folks share their `.gitconfig` files online so look around for configurations you like. [here's mine](https://github.com/RZachLamberty/linux_configs/blob/master/files/.gitconfig)\n",
    "\n",
    "\n",
    "##### nothing to commit here"
   ]
  },
  {
   "cell_type": "markdown",
   "metadata": {},
   "source": [
    "# exercise 3: add several `git` aliases <span style=\"color:red;font-weight:bold\">ANSWERS</span>\n",
    "\n",
    "nothing to commit"
   ]
  },
  {
   "cell_type": "markdown",
   "metadata": {},
   "source": [
    "# exercise 4: add a new `python` file to your local `gu511_git_hw` repo and `push` to your remote\n",
    "\n",
    "write the following code to a file named `helloworld.py` in your local `gu511_git_hw` repository (that is, save it next to `README.md`):\n",
    "\n",
    "```py\n",
    "import datetime\n",
    "\n",
    "def hello_world():\n",
    "    print('hello world!')\n",
    "    now = datetime.datetime.now()\n",
    "    print('it is {}'.format(now))\n",
    "\n",
    "if __name__ == \"__main__\":\n",
    "    hello_world()\n",
    "```\n",
    "\n",
    "add this new file to your repository and `push` it to the remote"
   ]
  },
  {
   "cell_type": "markdown",
   "metadata": {},
   "source": [
    "# exercise 4: add a new `python` file to your local repo and `push` to your remote <span style=\"color:red;font-weight:bold\">ANSWERS</span>\n",
    "\n",
    "after adding the file,\n",
    "\n",
    "```sh\n",
    "git add helloworld.py\n",
    "git commit -m 'helloworld.py: new python file'\n",
    "git push\n",
    "```"
   ]
  },
  {
   "cell_type": "markdown",
   "metadata": {},
   "source": [
    "# exercise 5: edit the `README.md` and `push`\n",
    "\n",
    "edit the existing `README.md` to read:\n",
    "\n",
    "```\n",
    "# 511 github repo\n",
    "\n",
    "the primary function of this repo is to develop `git` skills over the course of the year.\n",
    "\n",
    "## repository contents\n",
    "\n",
    "+ `helloworld.py`\n",
    "    + run with `python helloworld.py`\n",
    "    + this will greet you and then tell you the current time\n",
    "```\n",
    "\n",
    "then `push` these results to `github`"
   ]
  },
  {
   "cell_type": "markdown",
   "metadata": {},
   "source": [
    "# exercise 5: edit the existing `README.md` and `push` <span style=\"color:red;font-weight:bold\">ANSWERS</span>\n",
    "\n",
    "after adding,\n",
    "\n",
    "```sh\n",
    "git add README.md\n",
    "git commit -m 'readme: updating to reflect new helloworld.py file'\n",
    "git push\n",
    "```"
   ]
  }
 ],
 "metadata": {
  "kernelspec": {
   "display_name": "Python 3",
   "language": "python",
   "name": "python3"
  },
  "language_info": {
   "codemirror_mode": {
    "name": "ipython",
    "version": 3
   },
   "file_extension": ".py",
   "mimetype": "text/x-python",
   "name": "python",
   "nbconvert_exporter": "python",
   "pygments_lexer": "ipython3",
   "version": "3.6.6"
  }
 },
 "nbformat": 4,
 "nbformat_minor": 2
}
