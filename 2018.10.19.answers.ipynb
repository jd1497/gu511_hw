{
 "cells": [
  {
   "cell_type": "markdown",
   "metadata": {},
   "source": [
    "# Exercises due by EOD 2018.10.19"
   ]
  },
  {
   "cell_type": "markdown",
   "metadata": {},
   "source": [
    "## goal"
   ]
  },
  {
   "cell_type": "markdown",
   "metadata": {},
   "source": [
    "in this homework assignment we will work on our familiarity with `python` as well as continue developing experience using `git` for version control"
   ]
  },
  {
   "cell_type": "markdown",
   "metadata": {},
   "source": [
    "## method of delivery"
   ]
  },
  {
   "cell_type": "markdown",
   "metadata": {},
   "source": [
    "as mentioned in our first lecture, the method of delivery may change from assignment to assignment. we will include this section in every assignment to provide an overview of how we expect homework results to be submitted, and to provide background notes or explanations for \"new\" delivery concepts or methods."
   ]
  },
  {
   "cell_type": "markdown",
   "metadata": {},
   "source": [
    "this week you will be submitting the results of your homework via an email to **BOTH** Zach (rzl5@georgetown.edu) and Carlos (chb49@georgetown.edu) titled \"2018.10.19 answers\", as well as commits to your `gu511_git_hw` on `github`\n",
    "\n",
    "summary:\n",
    "\n",
    "| exercise | deliverable | method of delivery |\n",
    "|----------|-------------|--------------------|\n",
    "| 1 | none | none |\n",
    "| 2 | a filled-in notebook named `[GUID].ds_pipeline_template.ipynb` | attached to your submission email |\n",
    "| 3 | none | none|\n",
    "| 4 | a `commit` to `gu511_git_hw` | `github` |\n",
    "| 5 | a `commit` to `gu511_git_hw` | `github` |"
   ]
  },
  {
   "cell_type": "markdown",
   "metadata": {},
   "source": [
    "# exercise 1: get an active `jupyter` session capable of running a data science `notebook`\n",
    "\n",
    "I have created a template notebook of a simple data science project (named `ds_pipeline_template.ipynb`) and hosted it in [the homework repository on `github`](https://github.com/rzl-ds/gu511_hw).\n",
    "\n",
    "in the following exercise you will be asked to fill in that template file until it is fully functional, but in order to do that you need to be able to run and edit that file in a `jupyter notebook` session. there are two ways I recommend doing that:\n",
    "\n",
    "#### the easy way: use google collab, where I have it hosted as well\n",
    "\n",
    "I have hosted this file on google collab here: https://colab.research.google.com/github/rzl-ds/gu511_hw/blob/master/ds_pipeline_template.ipynb\n",
    "\n",
    "1. open [that url](https://colab.research.google.com/github/rzl-ds/gu511_hw/blob/master/ds_pipeline_template.ipynb)\n",
    "1. look at the top right corner of the window. if you are not already signed in to a google account, click the \"Sign In\" button and sign in with a google account (e.g. your `georgetown.edu` account)\n",
    "1. save your own copy so you can make edits\n",
    "    1. select File > Save a Copy in Drive\n",
    "        1. **do not** save to `github`, where it will be public\n",
    "        1. **do not** share your work on `google drive`\n",
    "1. open your saved copy in a new tab (your browser should do this for you).\n",
    "1. execute the cells using `Shift + Enter` or the buttons in the web interface\n",
    "1. if you are prompted with warnings saying \"Warning: This notebook was not authored by Google.\", select the \"RUN ANYWAY\" option\n",
    "1. remember to *SAVE* your changes as you go (File > Save)\n",
    "\n",
    "\n",
    "#### the onle a little less easy way: use your laptop if you are comfortable using `jupyter` on your local laptop and know how to install packages\n",
    "\n",
    "download that `.ipynb` file to your local laptop. you can do this via the command line:\n",
    "\n",
    "```sh\n",
    "wget https://raw.githubusercontent.com/rzl-ds/gu511_hw/master/ds_pipeline_template.ipynb\n",
    "```\n",
    "\n",
    "or you could navigate to [that `url`](https://raw.githubusercontent.com/rzl-ds/gu511_hw/master/ds_pipeline_template.ipynb) in your browser and right-click and select \"Save\" or \"Save As...\" (whatever option your browser gives you).\n",
    "\n",
    "*note*: **do not** download the rendered version on `github`! that is an `html` file. you need the `raw` `json`-formatted `ipynb` file. make sure the word `raw` is in whatever `url` you are `wget`-ing / right-click downloading.\n",
    "\n",
    "\n",
    "after you have downloaded it, navigate to the containing directory and launch a `jupyter notebook` in that directory\n",
    "\n",
    "*note*: you will need the following `python` packages to run this notebook:\n",
    "\n",
    "+ `jupyter`\n",
    "+ `matplotlib`\n",
    "+ `numpy`\n",
    "+ `plotly`\n",
    "+ `seaborn`\n",
    "+ `scikit-learn`\n",
    "\n",
    "##### there is nothing to submit here"
   ]
  },
  {
   "cell_type": "markdown",
   "metadata": {},
   "source": [
    "# exercise 1: get an active `jupyter` session capable of running a data science `notebook` <span style=\"color:red;font-weight:bold\">ANSWERS</span>\n",
    "\n",
    "follow the steps outlined above"
   ]
  },
  {
   "cell_type": "markdown",
   "metadata": {},
   "source": [
    "# exercise 2: fill in the contents of the `ds_pipeline_template.ipynb` notebook\n",
    "\n",
    "throughout that template notebook I have removed snippets of code and replaced them with comment blocks saying:\n",
    "\n",
    "```py\n",
    "# --------------- #\n",
    "# FILL ME IN !!!! #\n",
    "# --------------- #\n",
    "```\n",
    "\n",
    "you should... you know... fill those in.\n",
    "\n",
    "once you have filled them all in, please **save** that file as `[YOUR_GU_ID].ds_pipeline_template.ipynb`\n",
    "\n",
    "1. if you used `google colab`, select \"File > Download .ipynb\" and enter this name\n",
    "1. if you used your own `jupyter notebook` on your laptop, just rename the file\n",
    "\n",
    "##### attach this properly named notebook file to your homework submission email"
   ]
  },
  {
   "cell_type": "markdown",
   "metadata": {},
   "source": [
    "# exercise 2: fill in the contents of the `ds_pipeline_template.ipynb` notebook <span style=\"color:red;font-weight:bold\">ANSWERS</span>\n",
    "\n",
    "answers will be posted as a separate filled-in notebook"
   ]
  },
  {
   "cell_type": "markdown",
   "metadata": {},
   "source": [
    "# exercise 3: `pull` down the new file I've added\n",
    "\n",
    "you trusted me, and I have rewarded that trust with a precious new file on our shared `github` repository. use `git pull` to sync up your *local* `gu511_git_hw` repository with the updated *global* one.\n",
    "\n",
    "##### there is nothing to submit here"
   ]
  },
  {
   "cell_type": "markdown",
   "metadata": {},
   "source": [
    "# exercise 3: `pull` down the new file I've added <span style=\"color:red;font-weight:bold\">ANSWERS</span>\n",
    "\n",
    "```sh\n",
    "git pull origin master\n",
    "```"
   ]
  },
  {
   "cell_type": "markdown",
   "metadata": {},
   "source": [
    "# exercise 4: update the `README` to include a description of the new `rzl.py` file and `push`\n",
    "\n",
    "you recognize that I, in my power-drunk state, forgot to update the `README.md` file to let people know what is happening in our shared code repo (*tsk tsk, me*!). you will do me a solid and add that for me.\n",
    "\n",
    "update the `README.md` such that it reads:\n",
    "\n",
    "```\n",
    "# 511 github repo\n",
    "\n",
    "the primary function of this repo is to develop `git` skills over the course of the year.\n",
    "\n",
    "## repository contents\n",
    "\n",
    "+ `helloworld.py`\n",
    "    + run with `python helloworld.py`\n",
    "    + this will greet you and then tell you the current time\n",
    "+ `rzl.py`\n",
    "    + run with `python rzl.py`\n",
    "    + this will offer you the ramblings of a teacher who thinks he is funnier than he is\n",
    "```\n",
    "\n",
    "`commit` this with the message `README: adding details on the usage and purpose of rzl.py` and `push` it up to `github`\n",
    "\n",
    "##### submission is done via a properly messaged `github` commit"
   ]
  },
  {
   "cell_type": "markdown",
   "metadata": {},
   "source": [
    "# exercise 4: update the `README` to include a description of the new `rzl.py` file and `push` <span style=\"color:red;font-weight:bold\">ANSWERS</span>\n",
    "\n",
    "after editing:\n",
    "\n",
    "```sh\n",
    "git add -p README.md\n",
    "git commit -m 'README: adding details on the usage and purpose of rzl.py'\n",
    "git push origin master\n",
    "```"
   ]
  },
  {
   "cell_type": "markdown",
   "metadata": {},
   "source": [
    "# exercise 5: create a `.gitignore` file and `push`\n",
    "\n",
    "by default, every file that `git` sees in your directory is assumed to be one that `git` *MIGHT* want to track. this can get annoying on projects as non-tracked files (e.g. `.csv`s, `__pycache__` directories, `.DS_Store` directories on mac) start to clutter up our otherwise empty directories.\n",
    "\n",
    "`git` handles this by looking for a file in your repository directory called `.gitignore`. if it sees a file that looks like one of the strings (with wild cards) in that `.gitignore` file, it will intentionally ignore that file going forward. if you want to track a file like that, you have to *force* `git` to do so (so it's not irreversable).\n",
    "\n",
    "`github` has [suggestions for `.gitignore` files by project type / programming language](https://github.com/github/gitignore). let's add the contents of the extremely extensive [`python` `.gitignore` file](https://github.com/github/gitignore/blob/master/Python.gitignore) to our project.\n",
    "\n",
    "\n",
    "## 5.1: create `.gitignore`\n",
    "\n",
    "in a text editor, create a `.gitignore` file and fill it with the contents in the `github`-suggested `python` `.gitignore` file. a raw text version of that file is available to copy-paste [here](https://github.com/github/gitignore/raw/master/Python.gitignore)\n",
    "\n",
    "\n",
    "## 5.2: `add`, `commit`, and `push` to `gu511_git_hw`\n",
    "\n",
    "create a `commit` with the message `gitignore: adding python ignorables`. `push` that to `github`\n",
    "\n",
    "\n",
    "##### submission is done via a properly messaged `github` commit"
   ]
  },
  {
   "cell_type": "markdown",
   "metadata": {},
   "source": [
    "# exercise 5: create a `.gitignore` file and `push` <span style=\"color:red;font-weight:bold\">ANSWERS</span>\n",
    "\n",
    "after editing:\n",
    "\n",
    "```sh\n",
    "git add -p README.md\n",
    "git commit -m 'gitignore: adding python ignorables'\n",
    "git push origin master\n",
    "```"
   ]
  }
 ],
 "metadata": {
  "kernelspec": {
   "display_name": "Python 3",
   "language": "python",
   "name": "python3"
  },
  "language_info": {
   "codemirror_mode": {
    "name": "ipython",
    "version": 3
   },
   "file_extension": ".py",
   "mimetype": "text/x-python",
   "name": "python",
   "nbconvert_exporter": "python",
   "pygments_lexer": "ipython3",
   "version": "3.6.6"
  }
 },
 "nbformat": 4,
 "nbformat_minor": 2
}
